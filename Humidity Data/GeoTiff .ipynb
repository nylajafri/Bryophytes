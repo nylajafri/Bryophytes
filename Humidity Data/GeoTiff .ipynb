{
 "cells": [
  {
   "cell_type": "code",
   "execution_count": 10,
   "id": "303c40a1",
   "metadata": {
    "scrolled": false
   },
   "outputs": [
    {
     "name": "stdout",
     "output_type": "stream",
     "text": [
      "Collecting rasterio\n",
      "  Downloading rasterio-1.3.6-cp310-cp310-win_amd64.whl (22.3 MB)\n",
      "     --------------------------------------- 22.3/22.3 MB 19.8 MB/s eta 0:00:00\n",
      "Collecting affine\n",
      "  Downloading affine-2.4.0-py3-none-any.whl (15 kB)\n",
      "Requirement already satisfied: certifi in c:\\users\\nylaj\\anaconda3\\lib\\site-packages (from rasterio) (2022.12.7)\n",
      "Collecting snuggs>=1.4.1\n",
      "  Downloading snuggs-1.4.7-py3-none-any.whl (5.4 kB)\n",
      "Requirement already satisfied: setuptools in c:\\users\\nylaj\\anaconda3\\lib\\site-packages (from rasterio) (65.6.3)\n",
      "Requirement already satisfied: attrs in c:\\users\\nylaj\\anaconda3\\lib\\site-packages (from rasterio) (22.1.0)\n",
      "Collecting cligj>=0.5\n",
      "  Downloading cligj-0.7.2-py3-none-any.whl (7.1 kB)\n",
      "Requirement already satisfied: click>=4.0 in c:\\users\\nylaj\\anaconda3\\lib\\site-packages (from rasterio) (8.0.4)\n",
      "Collecting click-plugins\n",
      "  Downloading click_plugins-1.1.1-py2.py3-none-any.whl (7.5 kB)\n",
      "Requirement already satisfied: numpy>=1.18 in c:\\users\\nylaj\\anaconda3\\lib\\site-packages (from rasterio) (1.23.5)\n",
      "Requirement already satisfied: colorama in c:\\users\\nylaj\\anaconda3\\lib\\site-packages (from click>=4.0->rasterio) (0.4.6)\n",
      "Requirement already satisfied: pyparsing>=2.1.6 in c:\\users\\nylaj\\anaconda3\\lib\\site-packages (from snuggs>=1.4.1->rasterio) (3.0.9)\n",
      "Installing collected packages: snuggs, affine, cligj, click-plugins, rasterio\n",
      "Successfully installed affine-2.4.0 click-plugins-1.1.1 cligj-0.7.2 rasterio-1.3.6 snuggs-1.4.7\n",
      "Note: you may need to restart the kernel to use updated packages.\n"
     ]
    }
   ],
   "source": [
    "pip install rasterio"
   ]
  },
  {
   "cell_type": "code",
   "execution_count": 5,
   "id": "b19214e3",
   "metadata": {},
   "outputs": [
    {
     "name": "stdout",
     "output_type": "stream",
     "text": [
      "Collecting package metadata (current_repodata.json): ...working... done\n",
      "Solving environment: ...working... done\n",
      "\n",
      "# All requested packages already installed.\n",
      "\n",
      "\n",
      "Note: you may need to restart the kernel to use updated packages.\n"
     ]
    }
   ],
   "source": [
    "conda install -c conda-forge python-geotiff"
   ]
  },
  {
   "cell_type": "code",
   "execution_count": 7,
   "id": "9eb28617",
   "metadata": {},
   "outputs": [
    {
     "ename": "SyntaxError",
     "evalue": "invalid syntax (1051510281.py, line 1)",
     "output_type": "error",
     "traceback": [
      "\u001b[1;36m  Cell \u001b[1;32mIn[7], line 1\u001b[1;36m\u001b[0m\n\u001b[1;33m    git clone git@github.com:KipCrossing/geotiff.git\u001b[0m\n\u001b[1;37m        ^\u001b[0m\n\u001b[1;31mSyntaxError\u001b[0m\u001b[1;31m:\u001b[0m invalid syntax\n"
     ]
    }
   ],
   "source": [
    "git clone git@github.com:KipCrossing/geotiff.git\n",
    "cd geotiff\n",
    "pip install -e .[dev]"
   ]
  },
  {
   "cell_type": "code",
   "execution_count": 9,
   "id": "31c5c898",
   "metadata": {
    "scrolled": true
   },
   "outputs": [
    {
     "ename": "NameError",
     "evalue": "name 'tiff_file' is not defined",
     "output_type": "error",
     "traceback": [
      "\u001b[1;31m---------------------------------------------------------------------------\u001b[0m",
      "\u001b[1;31mNameError\u001b[0m                                 Traceback (most recent call last)",
      "Cell \u001b[1;32mIn[9], line 3\u001b[0m\n\u001b[0;32m      1\u001b[0m \u001b[38;5;28;01mfrom\u001b[39;00m \u001b[38;5;21;01mgeotiff\u001b[39;00m \u001b[38;5;28;01mimport\u001b[39;00m GeoTiff\n\u001b[1;32m----> 3\u001b[0m geo_tiff \u001b[38;5;241m=\u001b[39m GeoTiff(\u001b[43mtiff_file\u001b[49m)\n",
      "\u001b[1;31mNameError\u001b[0m: name 'tiff_file' is not defined"
     ]
    }
   ],
   "source": [
    "from geotiff import GeoTiff\n",
    "\n",
    "geo_tiff = GeoTiff(tiff_file)"
   ]
  },
  {
   "cell_type": "code",
   "execution_count": null,
   "id": "83e4ee3b",
   "metadata": {},
   "outputs": [],
   "source": []
  }
 ],
 "metadata": {
  "kernelspec": {
   "display_name": "Python 3 (ipykernel)",
   "language": "python",
   "name": "python3"
  },
  "language_info": {
   "codemirror_mode": {
    "name": "ipython",
    "version": 3
   },
   "file_extension": ".py",
   "mimetype": "text/x-python",
   "name": "python",
   "nbconvert_exporter": "python",
   "pygments_lexer": "ipython3",
   "version": "3.10.9"
  }
 },
 "nbformat": 4,
 "nbformat_minor": 5
}
